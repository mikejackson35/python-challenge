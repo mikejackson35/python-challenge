{
 "cells": [
  {
   "cell_type": "code",
   "execution_count": 75,
   "id": "f5bd862f",
   "metadata": {},
   "outputs": [],
   "source": [
    "import csv"
   ]
  },
  {
   "cell_type": "code",
   "execution_count": 76,
   "id": "cf809413",
   "metadata": {},
   "outputs": [],
   "source": [
    "import os"
   ]
  },
  {
   "cell_type": "code",
   "execution_count": 77,
   "id": "6156bfd0",
   "metadata": {},
   "outputs": [],
   "source": [
    "months=[]\n",
    "profit = []\n",
    "revenue = []\n",
    "differences = []\n",
    "TotalRevenue = 0\n",
    "     "
   ]
  },
  {
   "cell_type": "code",
   "execution_count": 78,
   "id": "dc881aaf",
   "metadata": {},
   "outputs": [
    {
     "name": "stdout",
     "output_type": "stream",
     "text": [
      "Financial Analysis\n",
      "------------------------\n",
      "Total Months: 86\n",
      "Total: $38382578\n",
      "Average Change: $-2315.12\n",
      "Greatest Increase in Profits:Feb-12 ($1926159)\n",
      "Greatest Decrease in Profits:Sep-13 ($-2196167)\n"
     ]
    }
   ],
   "source": [
    "with open('Resources/budget_data.csv') as csvfile:\n",
    "    budgetData = csv.reader(csvfile, delimiter=',')\n",
    "    headers=next(budgetData)\n",
    "  \n",
    "    for row in budgetData:\n",
    "        months.append(row[0])\n",
    "        profit.append(int(row[1]))\n",
    "        TotalRevenue += int(row[1])\n",
    "        \n",
    "    for i in range(len(profit)-1):\n",
    "        currentDifference= (profit[i+1]-profit[i])\n",
    "        differences.append(currentDifference)\n",
    "    \n",
    "    averageChange=round(sum(differences)/len(differences),2)\n",
    "    \n",
    "    greatestIncrease= max(differences)\n",
    "    indexGreatestIncrease=differences.index(greatestIncrease)\n",
    "    indexGreatestIncrease+=1\n",
    "    \n",
    "    greatestDecrease= min(differences)\n",
    "    indexGreatestDecrease=differences.index(greatestDecrease)\n",
    "    indexGreatestDecrease+=1\n",
    "        \n",
    "        \n",
    "        \n",
    "    print(\"Financial Analysis\")\n",
    "    print(\"------------------------\")\n",
    "    print(\"Total Months:\", len(months))\n",
    "    print(f\"Total: ${TotalRevenue}\")\n",
    "    print(f\"Average Change: ${averageChange}\")\n",
    "    print(f\"Greatest Increase in Profits:{months[indexGreatestIncrease]} (${greatestIncrease})\")\n",
    "    print(f\"Greatest Decrease in Profits:{months[indexGreatestDecrease]} (${greatestDecrease})\")\n",
    "    \n",
    "filePyBank = open(\"filePyBank.txt\", \"w\")\n",
    "    \n",
    "filePyBank.write(\"Financial Analysis \\n\")\n",
    "filePyBank.write(\"------------------------ \\n\")\n",
    "filePyBank.write(f\"Total Months: {len(months)} \\n\")\n",
    "filePyBank.write(f\"Total: ${TotalRevenue} \\n\")\n",
    "filePyBank.write(f\"Average Change: ${averageChange} \\n\")\n",
    "filePyBank.write(f\"Greatest Increase in Profits:{months[indexGreatestIncrease]} (${greatestIncrease}) \\n\")\n",
    "filePyBank.write(f\"Greatest Decrease in Profits:{months[indexGreatestDecrease]} (${greatestDecrease})\")\n",
    "\n",
    "filePyBank.close()\n",
    "    \n",
    "    \n",
    "    \n",
    "\n",
    "    "
   ]
  },
  {
   "cell_type": "code",
   "execution_count": null,
   "id": "1961d9f4",
   "metadata": {},
   "outputs": [],
   "source": []
  },
  {
   "cell_type": "code",
   "execution_count": null,
   "id": "1c118c96",
   "metadata": {},
   "outputs": [],
   "source": []
  }
 ],
 "metadata": {
  "kernelspec": {
   "display_name": "Python 3",
   "language": "python",
   "name": "python3"
  },
  "language_info": {
   "codemirror_mode": {
    "name": "ipython",
    "version": 3
   },
   "file_extension": ".py",
   "mimetype": "text/x-python",
   "name": "python",
   "nbconvert_exporter": "python",
   "pygments_lexer": "ipython3",
   "version": "3.8.8"
  }
 },
 "nbformat": 4,
 "nbformat_minor": 5
}
