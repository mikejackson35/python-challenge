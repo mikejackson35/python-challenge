{
 "cells": [
  {
   "cell_type": "code",
   "execution_count": 37,
   "id": "9c5c20bc",
   "metadata": {},
   "outputs": [],
   "source": [
    "import os"
   ]
  },
  {
   "cell_type": "code",
   "execution_count": 38,
   "id": "f13b80cd",
   "metadata": {},
   "outputs": [],
   "source": [
    "import csv"
   ]
  },
  {
   "cell_type": "code",
   "execution_count": 39,
   "id": "2e8cd00b",
   "metadata": {},
   "outputs": [],
   "source": [
    "totalVotesCast = 0\n",
    "candidateDict = {}"
   ]
  },
  {
   "cell_type": "code",
   "execution_count": 40,
   "id": "79ce3384",
   "metadata": {},
   "outputs": [
    {
     "name": "stdout",
     "output_type": "stream",
     "text": [
      "Election Results\n",
      "---------------------\n",
      "Total Votes: 3521001\n",
      "---------------------\n",
      "Khan: 63.000% (2218231)\n",
      "Correy: 20.000% (704200)\n",
      "Li: 14.000% (492940)\n",
      "O'Tooley: 3.000% (105630)\n",
      "----------------------\n",
      "Winner: Khan\n",
      "----------------------\n"
     ]
    }
   ],
   "source": [
    "with open('Resources/election_data.csv') as csvfile:\n",
    "    electionData = csv.reader(csvfile, delimiter=',')\n",
    "    headers=next(electionData)\n",
    "   \n",
    "    \n",
    "    for row in electionData:\n",
    "    \n",
    "        candidate = row[2]\n",
    "        totalVotesCast += 1\n",
    "    \n",
    "        if candidate not in candidateDict:\n",
    "            candidateDict[candidate]=1\n",
    "        else:\n",
    "            candidateDict[candidate]+=1\n",
    "             \n",
    "    filePyPoll= open(\"output.txt\", \"w\")\n",
    "    \n",
    "    print(\"Election Results\")\n",
    "    filePyPoll.write(\"Election Results \\n\")\n",
    "    \n",
    "    print(\"---------------------\")\n",
    "    filePyPoll.write(\"--------------------- \\n\")\n",
    "    \n",
    "    print(f\"Total Votes: {totalVotesCast}\")\n",
    "    filePyPoll.write(f\"Total Votes: {totalVotesCast} \\n\")\n",
    "    \n",
    "    print(\"---------------------\")\n",
    "    filePyPoll.write(\"--------------------- \\n\")\n",
    "    \n",
    "    maximum = 0\n",
    "    max_name = \"\"\n",
    "    \n",
    "    \n",
    "    \n",
    "    for candidate in candidateDict:\n",
    "        \n",
    "        if candidateDict[candidate]>maximum:\n",
    "            maximum=candidateDict[candidate]\n",
    "            max_name = candidate\n",
    "            \n",
    "        \n",
    "        percentVotes = round(candidateDict[candidate]/totalVotesCast*100, 3)\n",
    "        \n",
    "        print(f\"{candidate}: {percentVotes:.3f}% ({candidateDict[candidate]})\")\n",
    "        filePyPoll.write(f\"{candidate}: {percentVotes:.3f}% ({candidateDict[candidate]}) \\n\")\n",
    "        \n",
    "        \n",
    "    print(\"----------------------\")\n",
    "    filePyPoll.write(\"---------------------- \\n\")\n",
    "    \n",
    "    print(f\"Winner: {max_name}\")\n",
    "    filePyPoll.write(f\"Winner: {max_name} \\n\")\n",
    "    \n",
    "    print(\"----------------------\")\n",
    "    filePyPoll.write(\"---------------------- \\n\")\n",
    "\n",
    "    "
   ]
  },
  {
   "cell_type": "code",
   "execution_count": null,
   "id": "33a64f92",
   "metadata": {},
   "outputs": [],
   "source": []
  },
  {
   "cell_type": "code",
   "execution_count": null,
   "id": "abbc4d44",
   "metadata": {},
   "outputs": [],
   "source": []
  }
 ],
 "metadata": {
  "kernelspec": {
   "display_name": "Python 3",
   "language": "python",
   "name": "python3"
  },
  "language_info": {
   "codemirror_mode": {
    "name": "ipython",
    "version": 3
   },
   "file_extension": ".py",
   "mimetype": "text/x-python",
   "name": "python",
   "nbconvert_exporter": "python",
   "pygments_lexer": "ipython3",
   "version": "3.8.8"
  }
 },
 "nbformat": 4,
 "nbformat_minor": 5
}
